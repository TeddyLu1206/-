{
  "nbformat": 4,
  "nbformat_minor": 0,
  "metadata": {
    "colab": {
      "provenance": []
    },
    "kernelspec": {
      "name": "python3",
      "display_name": "Python 3"
    },
    "language_info": {
      "name": "python"
    }
  },
  "cells": [
    {
      "cell_type": "code",
      "execution_count": null,
      "metadata": {
        "colab": {
          "base_uri": "https://localhost:8080/"
        },
        "id": "841NNyGoooKz",
        "outputId": "d55b36c2-d2db-4b82-ca92-16caaeb841d0"
      },
      "outputs": [
        {
          "output_type": "stream",
          "name": "stdout",
          "text": [
            "1x1= 1 2x1= 2 3x1= 3 4x1= 4 5x1= 5 6x1= 6 7x1= 7 8x1= 8 9x1= 9 \n",
            "1x2= 2 2x2= 4 3x2= 6 4x2= 8 5x2=10 6x2=12 7x2=14 8x2=16 9x2=18 \n",
            "1x3= 3 2x3= 6 3x3= 9 4x3=12 5x3=15 6x3=18 7x3=21 8x3=24 9x3=27 \n",
            "1x4= 4 2x4= 8 3x4=12 4x4=16 5x4=20 6x4=24 7x4=28 8x4=32 9x4=36 \n",
            "1x5= 5 2x5=10 3x5=15 4x5=20 5x5=25 6x5=30 7x5=35 8x5=40 9x5=45 \n",
            "1x6= 6 2x6=12 3x6=18 4x6=24 5x6=30 6x6=36 7x6=42 8x6=48 9x6=54 \n",
            "1x7= 7 2x7=14 3x7=21 4x7=28 5x7=35 6x7=42 7x7=49 8x7=56 9x7=63 \n",
            "1x8= 8 2x8=16 3x8=24 4x8=32 5x8=40 6x8=48 7x8=56 8x8=64 9x8=72 \n",
            "1x9= 9 2x9=18 3x9=27 4x9=36 5x9=45 6x9=54 7x9=63 8x9=72 9x9=81 \n"
          ]
        }
      ],
      "source": [
        "\n",
        "a=1\n",
        "b=1\n",
        "while b<=9:\n",
        "  while a<=9:\n",
        "    ans=a*b\n",
        "    print(f'{a}x{b}={ans:2d}',end=' ')\n",
        "    a+=1\n",
        "  b+=1\n",
        "  a=1\n",
        "  print()"
      ]
    },
    {
      "cell_type": "code",
      "source": [
        "import random\n",
        "answer=random.sample(range(1,10),4)\n",
        "a=b=i=0\n",
        "guess_count = 0\n",
        "print(f'答案：{answer}')\n",
        "while a != 4 :\n",
        "  guess_count += 1\n",
        "  guess = input('請輸入四個數字(不會重複)')\n",
        "  if len(guess) != 4:\n",
        "    guess = input('輸入數字過多、請輸入四個數字(不重複)')\n",
        "  guess = list(guess)\n",
        "  guess = [int(x) for x in guess]\n",
        "  a=0\n",
        "  b=0\n",
        "  for i in range(len(guess)):\n",
        "    if guess[i] == answer[i] :\n",
        "      a+=1\n",
        "    else:\n",
        "      if guess[i] in answer:\n",
        "        b+=1\n",
        "  print(f\"{a}A{b}B\")\n",
        "print(f'答對了！總共用了{guess_count} 次')"
      ],
      "metadata": {
        "colab": {
          "base_uri": "https://localhost:8080/"
        },
        "id": "iOpXKOLgt5UW",
        "outputId": "a63d7ad6-072c-4f67-d49c-feaeaf5e0694"
      },
      "execution_count": 41,
      "outputs": [
        {
          "output_type": "stream",
          "name": "stdout",
          "text": [
            "答案：[5, 1, 7, 8]\n",
            "請輸入四個數字(不會重複)1234\n",
            "0A1B\n",
            "請輸入四個數字(不會重複)12345\n",
            "輸入數字過多、請輸入四個數字(不重複)5176\n",
            "3A0B\n",
            "請輸入四個數字(不會重複)5178\n",
            "4A0B\n",
            "答對了！總共用了3 次\n"
          ]
        }
      ]
    },
    {
      "cell_type": "code",
      "source": [
        "import random\n",
        "answer = random.sample(range(1, 10), 4)\n",
        "print(f'答案：{answer}')\n",
        "a = b = n = 0\n",
        "num = 0\n",
        "while a!=4:\n",
        "    num += 1\n",
        "    a = b = n = 0\n",
        "    user = list(input('輸入四個數字(不會重複)：'))\n",
        "    if len(user) >4:\n",
        "      user = list(input('輸入數字過多，請輸入四個數字(不會重複)：'))\n",
        "      num += 0\n",
        "    for i in user:\n",
        "        if int(user[n]) == answer[n]:\n",
        "            a += 1\n",
        "        else:\n",
        "            if int(i) in answer:\n",
        "                b += 1\n",
        "        n += 1\n",
        "    output = ','.join(user).replace(',','')\n",
        "    print(f'{output}: {a}A{b}B')\n",
        "print(f'答對了！總共猜了 {num} 次')"
      ],
      "metadata": {
        "id": "enzzrgu4ZU7q"
      },
      "execution_count": null,
      "outputs": []
    }
  ]
}