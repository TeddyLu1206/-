{
  "nbformat": 4,
  "nbformat_minor": 0,
  "metadata": {
    "colab": {
      "provenance": []
    },
    "kernelspec": {
      "name": "python3",
      "display_name": "Python 3"
    },
    "language_info": {
      "name": "python"
    }
  },
  "cells": [
    {
      "cell_type": "code",
      "execution_count": 28,
      "metadata": {
        "colab": {
          "base_uri": "https://localhost:8080/"
        },
        "id": "DP3_FJJbt1Tn",
        "outputId": "c8de1964-e5d6-49c3-b0f5-b34229c3d115"
      },
      "outputs": [
        {
          "output_type": "stream",
          "name": "stdout",
          "text": [
            "請輸入層數11\n",
            "          *\n",
            "         ***\n",
            "        *****\n",
            "       *******\n",
            "      *********\n",
            "     ***********\n",
            "    *************\n",
            "   ***************\n",
            "  *****************\n",
            " *******************\n",
            "*********************\n",
            "         ***\n",
            "         ***\n",
            "         ***\n",
            "         ***\n",
            "         ***\n"
          ]
        }
      ],
      "source": [
        "star='*'\n",
        "def christmas_tree(rows):\n",
        "    for i in range(rows):\n",
        "        print(' ' * (rows - i - 1) + '*' * (2 * i + 1))\n",
        "def tree_trunk(rows):\n",
        "    for i in range (1,6):\n",
        "      print(' ' * (rows - 2) + '***')\n",
        "\n",
        "rows=int(input('請輸入層數'))\n",
        "christmas_tree(rows)\n",
        "tree_trunk(rows)"
      ]
    },
    {
      "cell_type": "code",
      "source": [
        "def BMI(l,w):\n",
        "  BMI = w / (l**2)\n",
        "  if BMI < 18.5:\n",
        "    ans='體位:過輕'\n",
        "  elif 18.5 <= BMI < 24:\n",
        "    ans='體位:適中'\n",
        "  elif BMI >= 24 and BMI < 27:\n",
        "    ans='體位:過重'\n",
        "  else:\n",
        "    ans='體位:肥胖'\n",
        "  return BMI, ans\n",
        "try:\n",
        "    l = int(input('請輸入身高(單位:公分)'))\n",
        "    w = int(input('請輸入體重(單位:公斤)'))\n",
        "    w=float(w)\n",
        "    l=float(l)\n",
        "    l/=100\n",
        "    BMI, ans = BMI(l,w)\n",
        "    print(f'BMI:{BMI}')\n",
        "    print(f'體位:{ans}')\n",
        "except:\n",
        "    print('輸入內容錯誤')"
      ],
      "metadata": {
        "colab": {
          "base_uri": "https://localhost:8080/"
        },
        "id": "AG8E4A1ku5Q-",
        "outputId": "f54dde34-849b-4385-e11f-7dd978253b1d"
      },
      "execution_count": 27,
      "outputs": [
        {
          "output_type": "stream",
          "name": "stdout",
          "text": [
            "請輸入身高(單位:公分)163\n",
            "請輸入體重(單位:公斤)57\n",
            "BMI:21.453573713726524\n",
            "體位:體位:適中\n"
          ]
        }
      ]
    },
    {
      "cell_type": "code",
      "source": [],
      "metadata": {
        "id": "vpFs2NMm5jpL"
      },
      "execution_count": null,
      "outputs": []
    }
  ]
}