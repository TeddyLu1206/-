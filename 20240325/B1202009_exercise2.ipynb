{
  "nbformat": 4,
  "nbformat_minor": 0,
  "metadata": {
    "colab": {
      "provenance": []
    },
    "kernelspec": {
      "name": "python3",
      "display_name": "Python 3"
    },
    "language_info": {
      "name": "python"
    }
  },
  "cells": [
    {
      "cell_type": "code",
      "execution_count": 10,
      "metadata": {
        "colab": {
          "base_uri": "https://localhost:8080/"
        },
        "id": "P7uEHfI5ffzP",
        "outputId": "f34bc39f-0241-4896-ddd2-faeaecfc74e2"
      },
      "outputs": [
        {
          "output_type": "stream",
          "name": "stdout",
          "text": [
            "{'姓名': '賴宏瑋', '性別': '男', '作業分數': [100, 100, 90], '學號': 'M1129020'}\n",
            "96.66666666666667\n"
          ]
        }
      ],
      "source": [
        "a={'姓名':'賴宏瑋','性別':'男','作業分數':[80,95,100,90]}\n",
        "a['學號']='M1129020'\n",
        "a['作業分數']=[80,100,100,90]\n",
        "del a ['作業分數'][0]\n",
        "print(a)\n",
        "b = a['作業分數'][0]\n",
        "c = a['作業分數'][1]\n",
        "d = a['作業分數'][2]\n",
        "e=(b+c+d)/3\n",
        "print(e)"
      ]
    }
  ]
}