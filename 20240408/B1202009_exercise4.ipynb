{
  "nbformat": 4,
  "nbformat_minor": 0,
  "metadata": {
    "colab": {
      "provenance": []
    },
    "kernelspec": {
      "name": "python3",
      "display_name": "Python 3"
    },
    "language_info": {
      "name": "python"
    }
  },
  "cells": [
    {
      "cell_type": "code",
      "execution_count": 6,
      "metadata": {
        "colab": {
          "base_uri": "https://localhost:8080/"
        },
        "id": "iTtVpOtJj5ZN",
        "outputId": "882eb2e2-096a-4174-d506-0979881b7894"
      },
      "outputs": [
        {
          "output_type": "stream",
          "name": "stdout",
          "text": [
            "請輸入身高(單位:公分)164\n",
            "請輸入體重(單位:公斤)57\n",
            "21.192742415229034\n",
            "體位:適中\n"
          ]
        }
      ],
      "source": [
        "import sys\n",
        "l = int(input('請輸入身高(單位:公分)'))\n",
        "w = int(input('請輸入體重(單位:公斤)'))\n",
        "l/=100\n",
        "bmi = w / (l**2)\n",
        "print(str(bmi))\n",
        "if bmi < 18.5:\n",
        "  print('體位:過輕')\n",
        "elif 18.5 <= bmi < 24:\n",
        "  print ('體位:適中')\n",
        "elif bmi >= 24 and bmi < 27:\n",
        "  print('體位:過重')\n",
        "else:\n",
        "  print('體位:肥胖')"
      ]
    },
    {
      "cell_type": "code",
      "source": [
        "o = int(input('請輸入第一個數字'))\n",
        "l = (input('請輸入運算符號'))\n",
        "t = int(input('請輸入第二個數字'))\n",
        "if l == \"+\":\n",
        "  answer = o + t\n",
        "  print(str(answer))\n",
        "elif l == \"-\":\n",
        "  answer = o - t\n",
        "  print (str(answer))\n",
        "elif l == \"*\":\n",
        "  answer = o * t\n",
        "  print(str(answer))\n",
        "elif l == \"/\":\n",
        "  answer = o / t\n",
        "  print(str(answer))"
      ],
      "metadata": {
        "colab": {
          "base_uri": "https://localhost:8080/"
        },
        "id": "61b00aLQogKX",
        "outputId": "1fa69117-043f-4f9d-9d61-190f2c136217"
      },
      "execution_count": 13,
      "outputs": [
        {
          "output_type": "stream",
          "name": "stdout",
          "text": [
            "請輸入第一個數字8\n",
            "請輸入運算符號/\n",
            "請輸入第二個數字2\n",
            "4.0\n"
          ]
        }
      ]
    }
  ]
}