{
  "nbformat": 4,
  "nbformat_minor": 0,
  "metadata": {
    "colab": {
      "provenance": []
    },
    "kernelspec": {
      "name": "python3",
      "display_name": "Python 3"
    },
    "language_info": {
      "name": "python"
    }
  },
  "cells": [
    {
      "cell_type": "code",
      "execution_count": 5,
      "metadata": {
        "colab": {
          "base_uri": "https://localhost:8080/"
        },
        "id": "yguYYHpytW_M",
        "outputId": "9d99a283-e727-428f-e779-a03c080f28df"
      },
      "outputs": [
        {
          "output_type": "stream",
          "name": "stdout",
          "text": [
            "請輸入年份2000\n",
            "閏年\n"
          ]
        }
      ],
      "source": [
        "year = int(input('請輸入年份'))\n",
        "if year <= 1582:\n",
        "  if year % 4 == 0:\n",
        "    print('閏年')\n",
        "  else:\n",
        "    print('平年')\n",
        "elif year > 1582:\n",
        "  if year % 4 == 0 and year % 400 == 0:\n",
        "    print('閏年')\n",
        "  elif year % 4 == 0 and year % 100 == 0:\n",
        "    print('平年')\n",
        "  elif year % 4 ==0:\n",
        "    print('閏年')\n",
        "else:\n",
        "  print('平年')\n"
      ]
    }
  ]
}