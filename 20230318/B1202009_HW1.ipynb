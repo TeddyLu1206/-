{
  "nbformat": 4,
  "nbformat_minor": 0,
  "metadata": {
    "colab": {
      "provenance": []
    },
    "kernelspec": {
      "name": "python3",
      "display_name": "Python 3"
    },
    "language_info": {
      "name": "python"
    }
  },
  "cells": [
    {
      "cell_type": "code",
      "execution_count": null,
      "metadata": {
        "colab": {
          "base_uri": "https://localhost:8080/"
        },
        "id": "xfcv0poVpxiJ",
        "outputId": "a39d6577-5203-4a66-8b6f-415226df1fe2"
      },
      "outputs": [
        {
          "output_type": "stream",
          "name": "stdout",
          "text": [
            "I'm a student\n"
          ]
        }
      ],
      "source": [
        "print(\"I'm a student\")\n"
      ]
    },
    {
      "cell_type": "code",
      "source": [
        "a=int(input('請輸入X1座標'))\n",
        "b=int(input('請輸入Y1座標'))\n",
        "c=int(input('請輸入X2座標'))\n",
        "d=int(input('請輸入Y2座標'))\n",
        "D=((a-c)**2+(b-d)**2)**(1/2)\n",
        "print(str(D))\n"
      ],
      "metadata": {
        "id": "WHiCsFV4p_p_",
        "colab": {
          "base_uri": "https://localhost:8080/"
        },
        "outputId": "043b402b-5769-4c55-fa3e-99dc3d55deaf"
      },
      "execution_count": null,
      "outputs": [
        {
          "output_type": "stream",
          "name": "stdout",
          "text": [
            "請輸入X1座標0\n",
            "請輸入Y1座標0\n",
            "請輸入X2座標1\n",
            "請輸入Y2座標1\n",
            "1.4142135623730951\n"
          ]
        }
      ]
    },
    {
      "cell_type": "code",
      "source": [
        "l = int(input('請輸入身高(單位:公分)'))\n",
        "w = int(input('請輸入體重(單位:公斤)'))\n",
        "l/=100\n",
        "bmi = w / (l**2)\n",
        "print(str(bmi))"
      ],
      "metadata": {
        "id": "-zBJxaqhBxGA",
        "colab": {
          "base_uri": "https://localhost:8080/"
        },
        "outputId": "11b166aa-d78d-4fb6-837a-a00882efc8ad"
      },
      "execution_count": null,
      "outputs": [
        {
          "output_type": "stream",
          "name": "stdout",
          "text": [
            "請輸入身高(單位:公分)163\n",
            "請輸入體重(單位:公斤)57\n",
            "21.453573713726524\n"
          ]
        }
      ]
    }
  ]
}