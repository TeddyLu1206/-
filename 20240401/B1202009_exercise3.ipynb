{
  "nbformat": 4,
  "nbformat_minor": 0,
  "metadata": {
    "colab": {
      "provenance": []
    },
    "kernelspec": {
      "name": "python3",
      "display_name": "Python 3"
    },
    "language_info": {
      "name": "python"
    }
  },
  "cells": [
    {
      "cell_type": "code",
      "execution_count": null,
      "metadata": {
        "id": "ijtxzO6IfeIN",
        "colab": {
          "base_uri": "https://localhost:8080/"
        },
        "outputId": "b7a7f554-1c64-4346-a93c-b8efb0e664a3"
      },
      "outputs": [
        {
          "output_type": "stream",
          "name": "stdout",
          "text": [
            "88.33333333333333\n",
            "{'姓名': '賴宏瑋', '性別': '男', '學號': 'M1129020'}\n",
            "95.0\n",
            "{'姓名': '許珈綺', '性別': '女', '學號': 'M1229001'}\n"
          ]
        }
      ],
      "source": [
        "import copy\n",
        "a= {'姓名':'賴宏瑋','性別':'男','作業分數':[95,100,90]}\n",
        "b= {'學號':'M1129020'}\n",
        "c= {**a,**b}\n",
        "d=copy.deepcopy(c)\n",
        "a['作業分數'][1]=80\n",
        "d['姓名']='許珈綺'\n",
        "d['性別']='女'\n",
        "d['學號']='M1229001'\n",
        "e=c.pop('作業分數')\n",
        "f = e[0]\n",
        "g = e[1]\n",
        "h = e[2]\n",
        "i=(f+g+h)/3\n",
        "print(i)\n",
        "print(c)\n",
        "j=d.pop('作業分數')\n",
        "k = j[0]\n",
        "l = j[1]\n",
        "m = j[2]\n",
        "n=(k+l+m)/3\n",
        "print(n)\n",
        "print(d)"
      ]
    },
    {
      "cell_type": "code",
      "source": [
        "a=[100,50,45,60,90,95,80,50]\n",
        "a.insert(0,88)\n",
        "a[2:4]=[70,50]\n",
        "a.remove(50)\n",
        "b=a.pop(0)\n",
        "c=a.pop()\n",
        "d=b+c\n",
        "print(d)"
      ],
      "metadata": {
        "id": "jUUqcNOJg87z",
        "colab": {
          "base_uri": "https://localhost:8080/"
        },
        "outputId": "939c1e69-db5d-4e48-d1f4-2b9b98c5aab9"
      },
      "execution_count": 23,
      "outputs": [
        {
          "output_type": "stream",
          "name": "stdout",
          "text": [
            "138\n"
          ]
        }
      ]
    },
    {
      "cell_type": "code",
      "source": [
        "a = 347 // 3\n",
        "\n",
        "b = 347 / 3 % 2\n",
        "\n",
        "c=a**b\n",
        "print(c)"
      ],
      "metadata": {
        "colab": {
          "base_uri": "https://localhost:8080/"
        },
        "id": "1tNtJODnpbcl",
        "outputId": "546b4cdb-ec87-40f4-afe5-33d9a299960b"
      },
      "execution_count": 20,
      "outputs": [
        {
          "output_type": "stream",
          "name": "stdout",
          "text": [
            "2719.5459465466556\n"
          ]
        }
      ]
    }
  ]
}